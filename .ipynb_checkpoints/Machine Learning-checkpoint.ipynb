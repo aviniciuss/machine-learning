{
 "cells": [
  {
   "cell_type": "markdown",
   "metadata": {},
   "source": [
    "## Introdução \n",
    "\n",
    "Literatura utilizada: [Inteligência Artificial - Uma Abordagem de Aprendizado de Máquina](https://www.amazon.com.br/Intelig%C3%AAncia-artificial-abordagem-aprendizado-m%C3%A1quina/dp/8521618808/ref=sr_1_1?ie=UTF8&qid=1508073315&sr=8-1&keywords=aprendizado+de+maquina)\n",
    "\n",
    "Uma das definições de Aprendizado de Máquima (AM):\n",
    "\n",
    "Mitchell (1997)\n",
    "> A Capacidade de melhorar o desempenho na realização de alguma tarefa por meio da experiência."
   ]
  },
  {
   "cell_type": "markdown",
   "metadata": {},
   "source": [
    "Problemas da computação são resolvidos por meio de um algoritmo que especifica passo a passo de como o problema deve ser resolvido. Mas não é facil escrever um algoritmo que faça coisas simples do dia a dia, como reconhecer as pessoas pela sua face ou sua fala.\n",
    "\n",
    "- Que caracteristicas do rosto ou da fala devemos considerar?\n",
    "- O que fazer para diferentes expressões faciais de uma mesma pessoa, como uso de um óculos ou bigode, cortes de cabelo, mudanças na voz por uma gripe ou mudança de espírito?\n",
    "\n",
    "No entando os seres humanos conseguem realizar essas tarefas com facilidade. Fazemos isso por reconhecimento de padrões, quando aprendemos o que dever ser observado em um rosto ou uma fala conseguimos identificar pessoas após termos visto vários exemplos de rostos ou falas com identificação clara.\n",
    "\n",
    "Um bom médico consegue dar um diagnóstico após ver o conjunto de sintomas e o resultado de exames clínicos. Para isso ele utilizada o conhecimento adquirido na sua formação e experiência proveniente do exercício da profissão. Como escrever um algoritmo que dados os sintomas e resultados clínicos faça um diagnóstico preciso tão bem como de um médico experiente?\n",
    "\n",
    "Outro problema difícil é escrever um algoritmo que descubra quantas pessoas fizeram mais de uma compra em uma loja no ano anterior, programas de banco de dados podem ser facilmente utilizados. Entretando, como fazer perguntas mais complicadas como:\n",
    "\n",
    "- Indentificar conjuntos de produtos que são frequentemente vendidos em conjunto.\n",
    "- Recomendar novos produtos a clientes que constumam comprar produtos semelhantes.\n",
    "- Agrupar os clientes da loja em grupos de forma a ter melhores resultados nas operações de marketing.\n",
    "\n",
    "Apesar da complexidade desses programas, o número de vezes em que essas tarefas precisam ser realizadas diariamente é muito grande. Isso, aliado ao volume de informações que precisam ser consideradas para sua realização, torna díficil ou mesmo impossível a sua realização por seres humanos.\n",
    "\n",
    "Técinicas de Inteligência Artificial (IA), em particular de Aprendizado de Máquina (AM), têm sido utilizadas com sucesso em grande número de problemas reais como:\n",
    "\n",
    "- Reconhecimento de voz.\n",
    "- Predição de taxa de curas de pacientes com diferentes doenças.\n",
    "- Detecção de uso fraudulento de cartões de crédido.\n",
    "- Condução de automóveis de forma autonônoma em rodivias.\n",
    "- Ferramentas de jogam gamão e xadrez de forma semelhante a campeões.\n",
    "- Diagnóstico de câncer por meio da análise de dados de expressão gênica.\n",
    "\n",
    "Além do grande volume de aplicações que se beneficiam das características da área de AM, outros fatores têm favorecido a expansão dessa área, como o desenvolvimento de algoritmos cada vez mais eficazes e eficientes e a elevada capacidade dos recursos computacionais atualmente disponíveis.\n",
    "\n",
    "Outras motivaçoes para a pesquisa em AM incluem a possibilidade de aumentar a compreensão de como se da o aprendizado nos seres vivos. Além disso, algumas tarefas são naturalmente mais bem definidas por meio de exemplos. Os modelos gerados são ainda capazes de lidar com situações não apresentadas durante seu desenvolvimento, sem necessariamente necessitar de uma nova fase de projeto (capacidade de generalizar). "
   ]
  },
  {
   "cell_type": "markdown",
   "metadata": {},
   "source": [
    "## Indução de Hipóteses\n",
    "\n",
    "Para ilustrar a relação entre AM e indução de hipóteses, imagine um conjunto de dados composto de pacientes de um hospital. Nesse conjunto, que será denomindado <b>hospital</b>, cada dado (exemplo ou registro) correspondente a um paciente e é uma tupla formada pelos valores de características ou atributos referentes ao paciente, que descrevem seus principais aspectos. Os atributos utilizados para cada paciente podem ser, por exemplo, sua identificação nome, idade, sexo, estado de origem, simtomas e resultados de exames clínicos. Exemplos de sintomas podem ser presença de distribuição de manchas na pele, peso e temperatura do corpo.\n",
    "\n",
    "Um dos atributos é considerado um atributo de saída cujos valores podem ser estimados utilizando os valores dos demais atributos, denominados atributos de entrada. O objetivo de um algoritmo de AM utilizado nessas tarefas é aprender, a partir de um subconjunto dos dados, denominado conjunto de treinamento, um modelo ou hipótese capaz de relacionar valores de atributos de entrada de um objeto do conjunto de treinamento ao valor de seu atributo de saída. Exemplo:\n",
    "\n",
    "Caracteristíca01 | Caracteristíca02 | Caracteristíca03 | Saída\n",
    ":----------------|:-----------------|:-----------------|:------\n",
    "1254.15          |125.58            |548.98            |Doente  \n",
    "05.15            |12.58             |5.98              |Saudável  \n",
    "\n",
    "Um dos requisitos para algoritmos de AM é que eles sejam capazes de lidar com dados imperfeitos. Muitos conjuntos de dados apresentam algum tipo de problema, como presença de ruídos, dados inconsistentes, dados ausentes e dados redundantes. Dependendo de sua extensão, esses problemas podem prejudicar o processo indutivo. Técnicas de pré-processamento são utilizadas com frequência para identificar e minimizar a ocorrência desses problemas.\n",
    "\n",
    "No caso dos dados de pacientes os atributos referentes à identificação e nome do paciente não são considerados entradas relevantes, uma vez que não possuem relação nenhuma com o diagnóstico de uma doença.\n",
    "\n",
    "O que se deseja, na verdade é induzir uma hipótese capaz de fazer diagnósticos corretos para novos pacientes diferentes daqueles que formas utilizados para aprender a regra de decisão. Assim, uma vez induzida uma hipótese, é desejável que ela também seja válida para outros objetos do mesmo domínio ou problema que não fazem parte do conjunto de treinamento (capacidade de generalização de hipóteses). Para ser útil quando aplicada a novos dados, uma hipótese precisa apresentar uma boa capacidade de generalização.\n",
    "\n",
    "Quando uma hipótese apresenta uma baixa capacidade de generalização a razão pode ser que ela está superajustada aos dados de treinamento (<b><i>overfitting</i></b>). Nesse caso, também é dito que a hipótese memorizou ou se especializou nos dados de treinamento. No caso inverso, o algoritmo de AM pode induzir hipóteses que apresentam uma baixa taxa de acerto mesmo no subconjunto de treinamento, configurando uma condiçao de subajustamento (<b><i>underfitting</i></b>). Essa situação pode ocorrer, por exemplo, quando os exemplos de treinamento disponíveis são pouco representativos ou o modelo usado é muito simples e não captura os padrões existentes nos dados.\n",
    "\n",
    "![](./images/overfitting_underfitting.png)"
   ]
  },
  {
   "cell_type": "markdown",
   "metadata": {},
   "source": [
    "## Viés Indutivo\n",
    "\n",
    "Quando um algoritmo de AM está aprendendo a partir de um conjunto de dados de treinamento, ele está procurando uma hipótese, no espaço de possíveis hipóteses, capaz de descrever as relações entre os objetos e que melhor se ajuste aos dados de treinamento.\n",
    "\n",
    "Cada algoritmo ultiliza uma forma ou representação para descrever a hipótese induzida. Por exemplo, redes neurais artificiais representam uma hipótese por um conjunto de valores reais, associados aos pesos de suas conexões da rede. Árvores de decisão utilizam uma estrutura de árvore em que cada nó interno é representado por uma pergunta referente ao valor de um atributo e cada nó externo está associado a uma classe.\n",
    "\n",
    "A representação utilizada define a preferência ou viés (<i>bias</i>) de representação do algoritmo e pode restringir o conjunto de hipóteses que podem ser induzidas pelo algoritmo.\n",
    "\n",
    "![](./images/vies.png)\n",
    "\n",
    "Além do viés de representação, os algoritmos de AM possuem também um viés de busca. O viés de busca de um algoritmo é a forma como o algoritmo busca a hipótese que melhor se ajusta aos dados de treinamento. Ele define como as hipóteses são pesquisadas no espaço de hipóteses. Por exemplo, o algoritmo ID3, que é utilizado para indução de árvores de decisão, tem como viés de busca a preferência por árvores de decisão com poucos nós.\n",
    "\n",
    "Assim, cada algoritmo de AM possui dois vieses, um viés de representação e outro de busca. O viés é necessário para restringir as hipóteses a serem visitadas no espaço de busca. Sem viés não haveria aprendizado/generalização. Os modelos seriam especializados para exemplos individuais."
   ]
  },
  {
   "cell_type": "markdown",
   "metadata": {},
   "source": [
    "## Tarefas de Aprendizado\n",
    "\n",
    "Algoritmos de AM têm sido amplamente utilizados em diversas tarefas, que podem ser organizadas de acordo com diferentes critérios. Um deles diz respeito ao paradigma de aprendizado a ser adotado para lidar com a tarefa. De acordo com esses critérios, as tarefas de aprendizado podem ser divididas em:\n",
    "\n",
    "- Preditivas\n",
    "- Descritivas\n",
    "\n",
    "#### Aprendizado Supervisionado (classificação e regressão)\n",
    "\n",
    "Em tarefas de previsão, a meta é encontrar uma função a partir dos dados de treinamento que possa ser utilizada para prever um rótulo ou valor que caracterize um novo exemplo, com base nos valores de seus atributos de entrada. Para isso, cada objeto do conjunto de treinamento deve possuir atributos de entrada e saída.\n",
    "\n",
    "Os algoritmos ou método de AM utilizados nesse tarefa induzem modelos preditivos. Esses algoritmos seguem o paradigma de aprendizado supervisionado. O termo supervisionado vem da simulação da presença de um \"supervisor externo\", que conhece a saída (rótulo) desejada para cada exemplo. Com isso o supervisor externo pode avaliar a capacidade de hipótese induzida de predizer o valor de saída para novos exemplos.\n",
    "\n",
    "#### Aprendizado Não Supervisionado (agrupamento, associação, sumarização)\n",
    "\n",
    "Em tarefas de descrição, a meta é explorar ou descrever um conjunto de dados. Os algoritmos de AM utilizados nessas tarefas não fazem uso de atributos de saída. Por isso, seguem o paradigma de aprendizado não supervisionado. Uma tarefa descritiva de agrupamento de dados, por exemplo, tem por meta encontrar grupos de objetos semelhantes no conjunto de dados. Outra tarefa descritiva é encontrar regras de associação que relacionem um grupo de atributos a outro grupo de atributos.\n",
    "\n",
    "O objetivo do um modelo não supervisionado é oganizar os dados de alguma forma ou descrever sua estrutura.\n",
    "\n",
    "![](./images/clustering.png)\n",
    "\n",
    "#### Aprendizado Semi Supervisionado\n",
    "\n",
    "Uma tarefa de aprendizado semissupervisionado pode ser uma tarefa de agrupamento semissupervisionado ou de classificação/regressão semissupervisionada. \n",
    "\n",
    "Agrupamento semissupervisionado é utilizado quando os dados são não rotulados, mas são conhecidas algumas restrições sobre os dados, como que par de exemplos dever estar no mesmo grupo ou em grupos diferentes. \n",
    "\n",
    "A classificação semissupervisionada é utilizada em tarefas de classificação em que apenas parte dos exemplos de treinamento possui um rótulo de classe. \n",
    "\n",
    "Raciocínio semelhante é utilizado para a regressão semissupervisionada. Isso acontece porque rotular exemplos poder ter um custo delevado, poder ser uma tarefa dificíl ou pode necessitar de dispositivos especiais.\n",
    "\n",
    "O aprendizado semissupervisionado procura aumentar o número de exemplos rotulados utilizando como conjunto de treinamento os exemplos atualmente rotulados. O modelo induzido com esses dados é utilizado para rotular exemplos não rotulados. Para isso, o exemplo não rotulado deve ter sua classe predita com uma boa confiança. Esses exemplos são então adicionados ao conjunto de treinamento e o processo se repete até que os exemplos que satisfaçam uma dada condição sejam rotuladas. Assim, esse tipo  de aprendizado utiliza de forma passiva tanto os dados rotulados quando os não rotulados para induzir um modelo preditivo.\n",
    "\n",
    "#### Aprendizado por Reforço\n",
    "\n",
    "O aprendizado por reforço tem como meta reforçar ou recompensar uma ação considerada positiva e punir uma ação considerada negativa. Um exemplo de tarefa de reforço é a de ensinar um robô a encontrar a melhor trajetória entre dois pontos. Algoritmos de aprendizado utilizados nessa tarefa, em geral, punem a passagem por trechos pouco promissores e recompensam a passagem por trechos promissores.\n",
    "\n",
    "![](./images/reinforcement_learning.png)\n",
    "\n",
    "---"
   ]
  },
  {
   "cell_type": "markdown",
   "metadata": {},
   "source": [
    "## Preparação de Dados\n",
    "\n",
    "### Análise de Dados\n",
    "\n",
    "A análise das características presentes em um conjunto de dados permite a descoberta de padrões e tendências que podem fornecer informações valiosas que ajudam a compreender o processo que gerou os dados. Muitas dessas características podem ser obtidas por meio da aplicação de fómulas estatísticas simples. Outras podem ser observadas por meio do uso de técnicas de visualização.\n",
    "\n",
    "###  Pré-processamento de Dados\n",
    "\n",
    "#### Redução de Dimencionalidade\n",
    "\n",
    "---"
   ]
  },
  {
   "cell_type": "markdown",
   "metadata": {},
   "source": [
    "## Modelos Preditivos\n",
    "\n",
    "Modelo Preditivo é uma função matemática que, aplicada a uma massa de dados, consegue identificar padrões cultos e prever o que poderá ocorrer."
   ]
  },
  {
   "cell_type": "markdown",
   "metadata": {},
   "source": [
    "### Regressão (simples, múltiplas, logística)\n",
    "\n",
    "#### Regressão Linear Simples\n",
    "\n",
    "Modelos de regressão, são modelos matemáticos que relacionan o comportamento de uma variável <b>Y</b> com outra <b>X</b>, a variável <b>X</b> é a variável independente, que são as entradas do modelo, a variável <b>Y</b> é a variável dependente, que é saída do modelo.O modelo é chamado de simples quando envolve apenas duas variáveis e múltiplo quando possui mais de duas variavéis.\n",
    "\n",
    "Uma <b>variável independente x</b>, explica a variação em outra variável, que é chamada de <b>variável dependente Y</b>. Este relacionamento existe em apenas um direção.\n",
    "\n",
    "<b>variável independente (x) -> variável dependente (y)</b>\n",
    "\n",
    "<b>Análise de regressão</b> é uma metodologia <b>estatística</b> que utiliza a relaçao entre duas ou mais variáveis quantitativas de tal forma que uma variável possa ser predita a partir de outra.\n",
    "\n",
    "O objetivo da regressão linear é buscar a equação de uma linha de regressão que minimize a soma dos erros ao quadrado, da diferença entre o valor observado de Y e o valor previsto.\n",
    "\n",
    "<b>Fórmula da regressão</b>\n",
    "![](./images/formula_regressao.png)\n",
    "\n",
    "<b>Fórmulas que ajudam a explicar o modelo de regressão:</b>\n",
    "\n",
    "<b>(SST - Sum Square Total)</b> Soma total dos quadrados, mostra a variação em Y em torno da própria média, o nível do modelo de regressão. É a medida da variação total.\n",
    "\n",
    "![](./images/SST.png)\n",
    "\n",
    "<b>(SSR - Sum Square Regression)</b> Soma dos quadrados de regressão, oferece a variação de Y considerando as variáveis X utilizadas no modelo. É a medida da variação que pode ser explicada.\n",
    "\n",
    "![](./images/SSR.png)\n",
    "\n",
    "<b>(SSE - Sum Square Error)</b> Soma dos quadrados dos residuos, mostra a variação de Y que não é explicada pelo modelo elaborado. É a medida da variação que não pode ser explicada.\n",
    "\n",
    "![](./images/SSE.png)\n",
    "\n",
    "<b>SST = SSE + SSR</b>\n",
    "\n",
    "<p>Se o SSR é alto e o SSR é baixo, o modelo de regressão explica a variação nas previçoes.</p>\n",
    "\n",
    "<p>Se o SSR é baixo de o SSE é alto, o modelo de regressão não explica bem a variação nas previsões.</p>\n",
    "\n",
    "![](./images/medida_da_regressao.png)\n",
    "\n",
    "<b>Cost Function</b>\n",
    "<p>O objetivo da regressão linear é a busca de uma linha de regressão que minimize a soma dos erros ao quadrado, da diferença entre o valor onservado Y e o valor previsto.</p>\n",
    "\n",
    "<p>Existem alguns métodos para minimização da Cost Function tais como:</p>\n",
    "- Pseudo-inversão\n",
    "- Fatorização\n",
    "- Gradient Descent"
   ]
  },
  {
   "cell_type": "markdown",
   "metadata": {},
   "source": [
    "#### Vídeos para melhor fixação do conteúdo:\n",
    "- [Construção de um diagrama de dispersão](https://www.youtube.com/watch?v=GjvmxmfRds8)\n",
    "- [Intuição sobre o coeficiente de correlação](https://www.youtube.com/watch?v=OYVmpo9gemw)\n",
    "- [Correlação e causalidade](https://www.youtube.com/watch?v=K4MXPV7jX8Q)\n",
    "- [Reta de regressão: tabagismo em 1945](https://www.youtube.com/watch?time_continue=26&v=PQce6JTg4SQ)\n",
    "- [Como criar um histograma](https://www.youtube.com/watch?v=Q1rbvzYmOmM)"
   ]
  },
  {
   "cell_type": "code",
   "execution_count": 375,
   "metadata": {},
   "outputs": [
    {
     "data": {
      "text/html": [
       "<div>\n",
       "<style>\n",
       "    .dataframe thead tr:only-child th {\n",
       "        text-align: right;\n",
       "    }\n",
       "\n",
       "    .dataframe thead th {\n",
       "        text-align: left;\n",
       "    }\n",
       "\n",
       "    .dataframe tbody tr th {\n",
       "        vertical-align: top;\n",
       "    }\n",
       "</style>\n",
       "<table border=\"1\" class=\"dataframe\">\n",
       "  <thead>\n",
       "    <tr style=\"text-align: right;\">\n",
       "      <th></th>\n",
       "      <th>CRIM</th>\n",
       "      <th>ZN</th>\n",
       "      <th>INDUS</th>\n",
       "      <th>CHAS</th>\n",
       "      <th>NOX</th>\n",
       "      <th>RM</th>\n",
       "      <th>AGE</th>\n",
       "      <th>DIS</th>\n",
       "      <th>RAD</th>\n",
       "      <th>TAX</th>\n",
       "      <th>PTRATIO</th>\n",
       "      <th>B</th>\n",
       "      <th>LSTAT</th>\n",
       "      <th>target</th>\n",
       "    </tr>\n",
       "  </thead>\n",
       "  <tbody>\n",
       "    <tr>\n",
       "      <th>0</th>\n",
       "      <td>0.00632</td>\n",
       "      <td>18.0</td>\n",
       "      <td>2.31</td>\n",
       "      <td>0.0</td>\n",
       "      <td>0.538</td>\n",
       "      <td>6.575</td>\n",
       "      <td>65.2</td>\n",
       "      <td>4.0900</td>\n",
       "      <td>1.0</td>\n",
       "      <td>296.0</td>\n",
       "      <td>15.3</td>\n",
       "      <td>396.90</td>\n",
       "      <td>4.98</td>\n",
       "      <td>24.0</td>\n",
       "    </tr>\n",
       "    <tr>\n",
       "      <th>1</th>\n",
       "      <td>0.02731</td>\n",
       "      <td>0.0</td>\n",
       "      <td>7.07</td>\n",
       "      <td>0.0</td>\n",
       "      <td>0.469</td>\n",
       "      <td>6.421</td>\n",
       "      <td>78.9</td>\n",
       "      <td>4.9671</td>\n",
       "      <td>2.0</td>\n",
       "      <td>242.0</td>\n",
       "      <td>17.8</td>\n",
       "      <td>396.90</td>\n",
       "      <td>9.14</td>\n",
       "      <td>21.6</td>\n",
       "    </tr>\n",
       "    <tr>\n",
       "      <th>2</th>\n",
       "      <td>0.02729</td>\n",
       "      <td>0.0</td>\n",
       "      <td>7.07</td>\n",
       "      <td>0.0</td>\n",
       "      <td>0.469</td>\n",
       "      <td>7.185</td>\n",
       "      <td>61.1</td>\n",
       "      <td>4.9671</td>\n",
       "      <td>2.0</td>\n",
       "      <td>242.0</td>\n",
       "      <td>17.8</td>\n",
       "      <td>392.83</td>\n",
       "      <td>4.03</td>\n",
       "      <td>34.7</td>\n",
       "    </tr>\n",
       "    <tr>\n",
       "      <th>3</th>\n",
       "      <td>0.03237</td>\n",
       "      <td>0.0</td>\n",
       "      <td>2.18</td>\n",
       "      <td>0.0</td>\n",
       "      <td>0.458</td>\n",
       "      <td>6.998</td>\n",
       "      <td>45.8</td>\n",
       "      <td>6.0622</td>\n",
       "      <td>3.0</td>\n",
       "      <td>222.0</td>\n",
       "      <td>18.7</td>\n",
       "      <td>394.63</td>\n",
       "      <td>2.94</td>\n",
       "      <td>33.4</td>\n",
       "    </tr>\n",
       "    <tr>\n",
       "      <th>4</th>\n",
       "      <td>0.06905</td>\n",
       "      <td>0.0</td>\n",
       "      <td>2.18</td>\n",
       "      <td>0.0</td>\n",
       "      <td>0.458</td>\n",
       "      <td>7.147</td>\n",
       "      <td>54.2</td>\n",
       "      <td>6.0622</td>\n",
       "      <td>3.0</td>\n",
       "      <td>222.0</td>\n",
       "      <td>18.7</td>\n",
       "      <td>396.90</td>\n",
       "      <td>5.33</td>\n",
       "      <td>36.2</td>\n",
       "    </tr>\n",
       "  </tbody>\n",
       "</table>\n",
       "</div>"
      ],
      "text/plain": [
       "      CRIM    ZN  INDUS  CHAS    NOX     RM   AGE     DIS  RAD    TAX  \\\n",
       "0  0.00632  18.0   2.31   0.0  0.538  6.575  65.2  4.0900  1.0  296.0   \n",
       "1  0.02731   0.0   7.07   0.0  0.469  6.421  78.9  4.9671  2.0  242.0   \n",
       "2  0.02729   0.0   7.07   0.0  0.469  7.185  61.1  4.9671  2.0  242.0   \n",
       "3  0.03237   0.0   2.18   0.0  0.458  6.998  45.8  6.0622  3.0  222.0   \n",
       "4  0.06905   0.0   2.18   0.0  0.458  7.147  54.2  6.0622  3.0  222.0   \n",
       "\n",
       "   PTRATIO       B  LSTAT  target  \n",
       "0     15.3  396.90   4.98    24.0  \n",
       "1     17.8  396.90   9.14    21.6  \n",
       "2     17.8  392.83   4.03    34.7  \n",
       "3     18.7  394.63   2.94    33.4  \n",
       "4     18.7  396.90   5.33    36.2  "
      ]
     },
     "execution_count": 375,
     "metadata": {},
     "output_type": "execute_result"
    }
   ],
   "source": [
    "from sklearn import linear_model\n",
    "from sklearn.datasets import load_boston\n",
    "boston_dataset = load_boston()\n",
    "\n",
    "import numpy as np\n",
    "import pandas as pd\n",
    "import matplotlib.pyplot as plt\n",
    "%matplotlib inline\n",
    "\n",
    "dataset = pd.DataFrame(data=boston_dataset.data, columns=boston_dataset.feature_names)\n",
    "dataset['target'] = boston_dataset.target\n",
    "\n",
    "dataset.head(5)"
   ]
  },
  {
   "cell_type": "code",
   "execution_count": 376,
   "metadata": {},
   "outputs": [],
   "source": [
    "# print(boston.DESCR)"
   ]
  },
  {
   "cell_type": "code",
   "execution_count": 377,
   "metadata": {},
   "outputs": [
    {
     "name": "stdout",
     "output_type": "stream",
     "text": [
      "Correlação: 0.69536\n"
     ]
    }
   ],
   "source": [
    "from scipy.stats.stats import pearsonr\n",
    "print('Correlação: %0.5f' % pearsonr(dataset['RM'], dataset['target'])[0])"
   ]
  },
  {
   "cell_type": "code",
   "execution_count": 378,
   "metadata": {},
   "outputs": [
    {
     "name": "stdout",
     "output_type": "stream",
     "text": [
      "[3.5609999999999999, 8.7799999999999994]\n",
      "[5.0, 50.0]\n"
     ]
    }
   ],
   "source": [
    "x_range = [dataset['RM'].min(),dataset['RM'].max()]\n",
    "y_range = [dataset['target'].min(),dataset['target'].max()]\n",
    "\n",
    "print(x_range)\n",
    "print(y_range)"
   ]
  },
  {
   "cell_type": "code",
   "execution_count": 379,
   "metadata": {
    "collapsed": true
   },
   "outputs": [],
   "source": [
    "model = linear_model.LinearRegression(normalize=False, fit_intercept=True)\n",
    "\n",
    "num_observ = len(dataset)\n",
    "x = dataset['RM'].values.reshape((num_observ, 1)) # X deve ser uma matriz\n",
    "y = dataset['target'].values # Y pode ser um vetor\n",
    "\n",
    "model.fit(x, y)\n",
    "\n",
    "predicts = model.predict(x)"
   ]
  },
  {
   "cell_type": "code",
   "execution_count": 380,
   "metadata": {
    "scrolled": true
   },
   "outputs": [
    {
     "data": {
      "image/png": "[encoded data removed]",
      "text/plain": [
       "<matplotlib.figure.Figure at 0x7f20f84e7320>"
      ]
     },
     "metadata": {},
     "output_type": "display_data"
    }
   ],
   "source": [
    "scatter_plot = dataset.plot(kind='scatter', x='RM', y='target', xlim=x_range, ylim=y_range)\n",
    "regression_line = scatter_plot.plot(\n",
    "    dataset['RM'], predicts, '-', color='orange', linewidth=2\n",
    ")"
   ]
  },
  {
   "cell_type": "code",
   "execution_count": 381,
   "metadata": {},
   "outputs": [
    {
     "name": "stdout",
     "output_type": "stream",
     "text": [
      "[ 9.10210898]\n",
      "-34.6706207764\n"
     ]
    }
   ],
   "source": [
    "print(model.coef_)\n",
    "print(model.intercept_)"
   ]
  },
  {
   "cell_type": "markdown",
   "metadata": {},
   "source": [
    "![](./images/variaveis_regressão_linear_simples.png)"
   ]
  },
  {
   "cell_type": "code",
   "execution_count": 382,
   "metadata": {},
   "outputs": [
    {
     "name": "stdout",
     "output_type": "stream",
     "text": [
      "Soma dos quadrados da regressão (SSR): 22061.879196211805\n"
     ]
    }
   ],
   "source": [
    "sum_squared_regression = pd.Series(predicts - dataset['target'].mean())**2\n",
    "SSR = np.sum(sum_squared_regression)\n",
    "print('Soma dos quadrados da regressão (SSR):', SSE)"
   ]
  },
  {
   "cell_type": "code",
   "execution_count": 383,
   "metadata": {},
   "outputs": [
    {
     "name": "stdout",
     "output_type": "stream",
     "text": [
      "Soma dos quadrados dos erros (SSE): 22061.879196211805\n"
     ]
    }
   ],
   "source": [
    "sum_squared_errors = pd.Series(predicts - dataset['target'])**2\n",
    "SSE = np.sum(sum_squared_errors)\n",
    "print('Soma dos quadrados dos erros (SSE):', SSE)"
   ]
  },
  {
   "cell_type": "code",
   "execution_count": 384,
   "metadata": {},
   "outputs": [
    {
     "name": "stdout",
     "output_type": "stream",
     "text": [
      "SST = SSE + SSR 42716.29541501978\n"
     ]
    }
   ],
   "source": [
    "print('SST = SSE + SSR', (SSE + SSR))"
   ]
  },
  {
   "cell_type": "code",
   "execution_count": 385,
   "metadata": {},
   "outputs": [
    {
     "name": "stdout",
     "output_type": "stream",
     "text": [
      "R² = 1 - SSE / SST: 0.5164745440086662\n"
     ]
    }
   ],
   "source": [
    "R2 = 1 - SSR / SST\n",
    "print('R² = 1 - SSE / SST:', R2)"
   ]
  },
  {
   "cell_type": "code",
   "execution_count": 386,
   "metadata": {},
   "outputs": [
    {
     "name": "stdout",
     "output_type": "stream",
     "text": [
      "Valores esperados: \n",
      " [ 24.   21.6  34.7  33.4  36.2  28.7  22.9  27.1  16.5  18.9]\n",
      "Valores previstos: \n",
      " [ 25.17574577  23.77402099  30.72803225  29.02593787  30.38215211\n",
      "  23.85593997  20.05125842  21.50759586  16.5833549   19.97844155]\n"
     ]
    }
   ],
   "source": [
    "print('Valores esperados: \\n', dataset['target'].values[0:10])\n",
    "print('Valores previstos: \\n', predicts[:10])"
   ]
  },
  {
   "cell_type": "markdown",
   "metadata": {},
   "source": [
    "#### Regressão Linear Múltipla"
   ]
  },
  {
   "cell_type": "code",
   "execution_count": null,
   "metadata": {
    "collapsed": true
   },
   "outputs": [],
   "source": []
  },
  {
   "cell_type": "markdown",
   "metadata": {},
   "source": [
    "---"
   ]
  },
  {
   "cell_type": "markdown",
   "metadata": {
    "collapsed": true
   },
   "source": [
    "### Métodos baseados em distâncias\n",
    "\n",
    "Métodos baseado em distância têm seu desempenho afetado pela medida ou função de distância utilizada. Um problema da medida de distância está em pressupor que os dados correspondem a pontos no espaço d-dimensional, ou seja, que seus atributos são númericos (contínuos). Contudo, diversos problemas possuem dados com atributos qualitativos. Outro aspecto que deve ser observado no cálculo da distância entre objetos é a escala utilizada para os valores dos atributos. Por exemplo, qual o efeito na função distância da representação de um atributo em <i>cm</i> ou <i>Km</i>? As medidas de distância são afetadas pela escala dos atributos. Para minimizar esse efeito, os atributos são usualmente normalizados. "
   ]
  },
  {
   "cell_type": "markdown",
   "metadata": {},
   "source": [
    "#### K-NN\n",
    "\n",
    "O algoritmo dois vizinhos mais próxmos tem variações definidas pelo número de vizinhos conhecidos. Dessa variação, a mais simples é o algoritmo 1-vizinho mais próximo (1-NN).\n",
    "\n",
    "Nesse algoritmo, cada objeto representa um ponto em um espaço definido pelos atributos, denominado espaço de entrada. Definindo uma métrica nesse espaço, é possível calcular as distâncias entre cada dois pontos. A métrica mais usual para isso é a distância euclidiana, dada pela equação:  \n",
    "\n",
    "![](./images/distancia_euclidiana.png)\n",
    "\n",
    "É um algotitmo muito simples, na fase de treinamento, o algoritmo memoriza os exemplos rotulados do conjunto de treinamento. Para classificar um exemplo não rotulado, ou seja, cuja classe não é conhecida, é calculada a distância entre o vetor de valores de atributos e cada exemplo rotulado em memória. O rótulo da classe associado ao exemplo de treinamento mais próximo do exemplo de teste é utilizado para classificar o novo exemplo.\n",
    "\n",
    "Apesar de sua simplicidade, as superfícies de decisão desenhadas pelo algoritmo do 1-NN são muito complexas: são poliedros convexos com centro em cada objeto do conjunto de treinameno. Todos os pontos no interior de um poliedro pertencem à classe do objeto do conjunto de treinamento que define o centro desse poliedro. O conjunto desses poliedros é designado <b>Diagrama de Voronoi</b>.\n",
    "\n",
    "![](./images/diagrama_de_voronoi.png)\n",
    "\n",
    "O algoritmo K-NN é uma extenção imediata do 1-NN."
   ]
  },
  {
   "cell_type": "code",
   "execution_count": 388,
   "metadata": {},
   "outputs": [
    {
     "data": {
      "text/html": [
       "<div>\n",
       "<style>\n",
       "    .dataframe thead tr:only-child th {\n",
       "        text-align: right;\n",
       "    }\n",
       "\n",
       "    .dataframe thead th {\n",
       "        text-align: left;\n",
       "    }\n",
       "\n",
       "    .dataframe tbody tr th {\n",
       "        vertical-align: top;\n",
       "    }\n",
       "</style>\n",
       "<table border=\"1\" class=\"dataframe\">\n",
       "  <thead>\n",
       "    <tr style=\"text-align: right;\">\n",
       "      <th></th>\n",
       "      <th>sepal length (cm)</th>\n",
       "      <th>sepal width (cm)</th>\n",
       "      <th>petal length (cm)</th>\n",
       "      <th>petal width (cm)</th>\n",
       "      <th>target</th>\n",
       "    </tr>\n",
       "  </thead>\n",
       "  <tbody>\n",
       "    <tr>\n",
       "      <th>0</th>\n",
       "      <td>5.1</td>\n",
       "      <td>3.5</td>\n",
       "      <td>1.4</td>\n",
       "      <td>0.2</td>\n",
       "      <td>0</td>\n",
       "    </tr>\n",
       "    <tr>\n",
       "      <th>1</th>\n",
       "      <td>4.9</td>\n",
       "      <td>3.0</td>\n",
       "      <td>1.4</td>\n",
       "      <td>0.2</td>\n",
       "      <td>0</td>\n",
       "    </tr>\n",
       "    <tr>\n",
       "      <th>2</th>\n",
       "      <td>4.7</td>\n",
       "      <td>3.2</td>\n",
       "      <td>1.3</td>\n",
       "      <td>0.2</td>\n",
       "      <td>0</td>\n",
       "    </tr>\n",
       "    <tr>\n",
       "      <th>3</th>\n",
       "      <td>4.6</td>\n",
       "      <td>3.1</td>\n",
       "      <td>1.5</td>\n",
       "      <td>0.2</td>\n",
       "      <td>0</td>\n",
       "    </tr>\n",
       "    <tr>\n",
       "      <th>4</th>\n",
       "      <td>5.0</td>\n",
       "      <td>3.6</td>\n",
       "      <td>1.4</td>\n",
       "      <td>0.2</td>\n",
       "      <td>0</td>\n",
       "    </tr>\n",
       "  </tbody>\n",
       "</table>\n",
       "</div>"
      ],
      "text/plain": [
       "   sepal length (cm)  sepal width (cm)  petal length (cm)  petal width (cm)  \\\n",
       "0                5.1               3.5                1.4               0.2   \n",
       "1                4.9               3.0                1.4               0.2   \n",
       "2                4.7               3.2                1.3               0.2   \n",
       "3                4.6               3.1                1.5               0.2   \n",
       "4                5.0               3.6                1.4               0.2   \n",
       "\n",
       "   target  \n",
       "0       0  \n",
       "1       0  \n",
       "2       0  \n",
       "3       0  \n",
       "4       0  "
      ]
     },
     "execution_count": 388,
     "metadata": {},
     "output_type": "execute_result"
    }
   ],
   "source": [
    "import sklearn.cross_validation\n",
    "from sklearn.neighbors import KNeighborsClassifier\n",
    "from sklearn.datasets import load_iris\n",
    "\n",
    "import numpy as np\n",
    "import pandas as pd\n",
    "import matplotlib.pyplot as plt\n",
    "%matplotlib inline\n",
    "\n",
    "iris_dataset = load_iris()\n",
    "\n",
    "dataset = pd.DataFrame(data=iris_dataset.data, columns=iris_dataset.feature_names)\n",
    "dataset['target'] = iris_dataset.target\n",
    "\n",
    "dataset.head(5)"
   ]
  },
  {
   "cell_type": "code",
   "execution_count": 389,
   "metadata": {},
   "outputs": [
    {
     "name": "stdout",
     "output_type": "stream",
     "text": [
      "(150, 4) (150,)\n"
     ]
    }
   ],
   "source": [
    "X = dataset_iris.data\n",
    "Y = dataset_iris.target\n",
    "\n",
    "print(X.shape, Y.shape)"
   ]
  },
  {
   "cell_type": "code",
   "execution_count": 391,
   "metadata": {},
   "outputs": [
    {
     "name": "stdout",
     "output_type": "stream",
     "text": [
      "(100, 4) (50, 4) (100,) (50,)\n"
     ]
    }
   ],
   "source": [
    "X_train, X_test, Y_train, Y_test = sklearn.cross_validation.train_test_split(X, Y, \n",
    "                                                                              test_size= 0.33, \n",
    "                                                                              random_state = 101)\n",
    "\n",
    "print(X_train.shape, X_test.shape, Y_train.shape, Y_test.shape)"
   ]
  },
  {
   "cell_type": "code",
   "execution_count": 395,
   "metadata": {},
   "outputs": [
    {
     "data": {
      "text/plain": [
       "KNeighborsClassifier(algorithm='auto', leaf_size=30, metric='minkowski',\n",
       "           metric_params=None, n_jobs=1, n_neighbors=3, p=2,\n",
       "           weights='uniform')"
      ]
     },
     "execution_count": 395,
     "metadata": {},
     "output_type": "execute_result"
    }
   ],
   "source": [
    "model = KNeighborsClassifier(n_neighbors=3)\n",
    "model.fit(X_train, Y_train)"
   ]
  },
  {
   "cell_type": "markdown",
   "metadata": {},
   "source": [
    "---"
   ]
  },
  {
   "cell_type": "markdown",
   "metadata": {},
   "source": [
    "### Métodos probabilísticos"
   ]
  },
  {
   "cell_type": "code",
   "execution_count": 16,
   "metadata": {
    "collapsed": true
   },
   "outputs": [],
   "source": [
    "import sklearn"
   ]
  },
  {
   "cell_type": "markdown",
   "metadata": {},
   "source": [
    "---"
   ]
  },
  {
   "cell_type": "markdown",
   "metadata": {},
   "source": [
    "### Métodos Baseados em Procura"
   ]
  },
  {
   "cell_type": "code",
   "execution_count": 17,
   "metadata": {
    "collapsed": true
   },
   "outputs": [],
   "source": [
    "import sklearn"
   ]
  },
  {
   "cell_type": "markdown",
   "metadata": {},
   "source": [
    "---"
   ]
  },
  {
   "cell_type": "markdown",
   "metadata": {},
   "source": [
    "### Métodos Baseados em Otimização\n",
    "\n",
    "#### RNN"
   ]
  },
  {
   "cell_type": "code",
   "execution_count": 18,
   "metadata": {
    "collapsed": true
   },
   "outputs": [],
   "source": [
    "import sklearn"
   ]
  },
  {
   "cell_type": "markdown",
   "metadata": {},
   "source": [
    "#### SVM"
   ]
  },
  {
   "cell_type": "code",
   "execution_count": 19,
   "metadata": {
    "collapsed": true
   },
   "outputs": [],
   "source": [
    "import sklearn"
   ]
  },
  {
   "cell_type": "markdown",
   "metadata": {},
   "source": [
    "---"
   ]
  },
  {
   "cell_type": "markdown",
   "metadata": {},
   "source": [
    "## Modelos Descritivos\n",
    "\n",
    "### Análise de Agrupamento\n",
    "\n",
    "- Hard Clustering (agrupamento rígido)\n",
    "- Soft Clustering (probabilidade de estar em qualquer cluster)\n",
    "\n",
    "#### K-means"
   ]
  },
  {
   "cell_type": "code",
   "execution_count": 20,
   "metadata": {
    "collapsed": true
   },
   "outputs": [],
   "source": [
    "import sklearn"
   ]
  },
  {
   "cell_type": "markdown",
   "metadata": {},
   "source": [
    "---"
   ]
  },
  {
   "cell_type": "markdown",
   "metadata": {},
   "source": [
    "### Modelos Mútiplos Descritivos\n",
    "\n",
    "#### <i>Ensembles</i> de Agrupamentos"
   ]
  },
  {
   "cell_type": "code",
   "execution_count": null,
   "metadata": {
    "collapsed": true
   },
   "outputs": [],
   "source": []
  }
 ],
 "metadata": {
  "kernelspec": {
   "display_name": "Python 3",
   "language": "python",
   "name": "python3"
  },
  "language_info": {
   "codemirror_mode": {
    "name": "ipython",
    "version": 3
   },
   "file_extension": ".py",
   "mimetype": "text/x-python",
   "name": "python",
   "nbconvert_exporter": "python",
   "pygments_lexer": "ipython3",
   "version": "3.6.1"
  }
 },
 "nbformat": 4,
 "nbformat_minor": 2
}
