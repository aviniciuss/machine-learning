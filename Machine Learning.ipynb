{
 "cells": [
  {
   "cell_type": "markdown",
   "metadata": {},
   "source": [
    "## Introdução \n",
    "\n",
    "Literatura utilizada: [Inteligência Artificial - Uma Abordagem de Aprendizado de Máquina](https://www.amazon.com.br/Intelig%C3%AAncia-artificial-abordagem-aprendizado-m%C3%A1quina/dp/8521618808/ref=sr_1_1?ie=UTF8&qid=1508073315&sr=8-1&keywords=aprendizado+de+maquina)\n",
    "\n",
    "Uma das definições de Aprendizado de Máquima (AM):\n",
    "\n",
    "Mitchell (1997)\n",
    "> A Capacidade de melhorar o desempenho na realização de alguma tarefa por meio da experiência."
   ]
  },
  {
   "cell_type": "markdown",
   "metadata": {},
   "source": [
    "Problemas da computação são resolvidos por meio de um algoritmo que especifica passo a passo de como o problema deve ser resolvido. Mas não é facil escrever um algoritmo que faça coisas simples do dia a dia, como reconhecer as pessoas pela sua face ou sua fala.\n",
    "\n",
    "- Que caracteristicas do rosto ou da fala devemos considerar?\n",
    "- O que fazer para diferentes expressões faciais de uma mesma pessoa, como uso de um óculos ou bigode, cortes de cabelo, mudanças na voz por uma gripe ou mudança de espírito?\n",
    "\n",
    "No entando os seres humanos conseguem realizar essas tarefas com facilidade. Fazemos isso por reconhecimento de padrões, quando aprendemos o que dever ser observado em um rosto ou uma fala conseguimos identificar pessoas após termos visto vários exemplos de rostos ou falas com identificação clara.\n",
    "\n",
    "Um bom médico consegue dar um diagnóstico após ver o conjunto de sintomas e o resultado de exames clínicos. Para isso ele utilizada o conhecimento adquirido na sua formação e experiência proveniente do exercício da profissão. Como escrever um algoritmo que dados os sintomas e resultados clínicos faça um diagnóstico preciso tão bem como de um médico experiente?\n",
    "\n",
    "Outro problema difícil é escrever um algoritmo que descubra quantas pessoas fizeram mais de uma compra em uma loja no ano anterior, programas de banco de dados podem ser facilmente utilizados. Entretando, como fazer perguntas mais complicadas como:\n",
    "\n",
    "- Indentificar conjuntos de produtos que são frequentemente vendidos em conjunto.\n",
    "- Recomendar novos produtos a clientes que constumam comprar produtos semelhantes.\n",
    "- Agrupar os clientes da loja em grupos de forma a ter melhores resultados nas operações de marketing.\n",
    "\n",
    "Apesar da complexidade desses programas, o número de vezes em que essas tarefas precisam ser realizadas diariamente é muito grande. Isso, aliado ao volume de informações que precisam ser consideradas para sua realização, torna díficil ou mesmo impossível a sua realização por seres humanos.\n",
    "\n",
    "Técinicas de Inteligência Artificial (IA), em particular de Aprendizado de Máquina (AM), têm sido utilizadas com sucesso em grande número de problemas reais como:\n",
    "\n",
    "- Reconhecimento de voz.\n",
    "- Predição de taxa de curas de pacientes com diferentes doenças.\n",
    "- Detecção de uso fraudulento de cartões de crédido.\n",
    "- Condução de automóveis de forma autonônoma em rodivias.\n",
    "- Ferramentas de jogam gamão e xadrez de forma semelhante a campeões.\n",
    "- Diagnóstico de câncer por meio da análise de dados de expressão gênica.\n",
    "\n",
    "Além do grande volume de aplicações que se beneficiam das características da área de AM, outros fatores têm favorecido a expansão dessa área, como o desenvolvimento de algoritmos cada vez mais eficazes e eficientes e a elevada capacidade dos recursos computacionais atualmente disponíveis.\n",
    "\n",
    "Outras motivaçoes para a pesquisa em AM incluem a possibilidade de aumentar a compreensão de como se da o aprendizado nos seres vivos. Além disso, algumas tarefas são naturalmente mais bem definidas por meio de exemplos. Os modelos gerados são ainda capazes de lidar com situações não apresentadas durante seu desenvolvimento, sem necessariamente necessitar de uma nova fase de projeto (capacidade de generalizar). "
   ]
  },
  {
   "cell_type": "markdown",
   "metadata": {},
   "source": [
    "## Indução de Hipóteses\n",
    "\n",
    "Para ilustrar a relação entre AM e indução de hipóteses, imagine um conjunto de dados composto de pacientes de um hospital. Nesse conjunto, que será denomindado <b>hospital</b>, cada dado (exemplo ou registro) correspondente a um paciente e é uma tupla formada pelos valores de características ou atributos referentes ao paciente, que descrevem seus principais aspectos. Os atributos utilizados para cada paciente podem ser, por exemplo, sua identificação nome, idade, sexo, estado de origem, simtomas e resultados de exames clínicos. Exemplos de sintomas podem ser presença de distribuição de manchas na pele, peso e temperatura do corpo.\n",
    "\n",
    "Um dos atributos é considerado um atributo de saída cujos valores podem ser estimados utilizando os valores dos demais atributos, denominados atributos de entrada. O objetivo de um algoritmo de AM utilizado nessas tarefas é aprender, a partir de um subconjunto dos dados, denominado conjunto de treinamento, um modelo ou hipótese capaz de relacionar valores de atributos de entrada de um objeto do conjunto de treinamento ao valor de seu atributo de saída. Exemplo:\n",
    "\n",
    "Caracteristíca01 | Caracteristíca02 | Caracteristíca03 | Saída\n",
    ":----------------|:-----------------|:-----------------|:------\n",
    "1254.15          |125.58            |548.98            |Doente  \n",
    "05.15            |12.58             |5.98              |Saudável  \n",
    "\n",
    "Um dos requisitos para algoritmos de AM é que eles sejam capazes de lidar com dados imperfeitos. Muitos conjuntos de dados apresentam algum tipo de problema, como presença de ruídos, dados inconsistentes, dados ausentes e dados redundantes. Dependendo de sua extensão, esses problemas podem prejudicar o processo indutivo. Técnicas de pré-processamento são utilizadas com frequência para identificar e minimizar a ocorrência desses problemas.\n",
    "\n",
    "No caso dos dados de pacientes os atributos referentes à identificação e nome do paciente não são considerados entradas relevantes, uma vez que não possuem relação nenhuma com o diagnóstico de uma doença.\n",
    "\n",
    "O que se deseja, na verdade é induzir uma hipótese capaz de fazer diagnósticos corretos para novos pacientes diferentes daqueles que formas utilizados para aprender a regra de decisão. Assim, uma vez induzida uma hipótese, é desejável que ela também seja válida para outros objetos do mesmo domínio ou problema que não fazem parte do conjunto de treinamento (capacidade de generalização de hipóteses). Para ser útil quando aplicada a novos dados, uma hipótese precisa apresentar uma boa capacidade de generalização.\n",
    "\n",
    "Quando uma hipótese apresenta uma baixa capacidade de generalização a razão pode ser que ela está superajustada aos dados de treinamento (<b><i>overfitting</i></b>). Nesse caso, também é dito que a hipótese memorizou ou se especializou nos dados de treinamento. No caso inverso, o algoritmo de AM pode induzir hipóteses que apresentam uma baixa taxa de acerto mesmo no subconjunto de treinamento, configurando uma condiçao de subajustamento (<b><i>underfitting</i></b>). Essa situação pode ocorrer, por exemplo, quando os exemplos de treinamento disponíveis são pouco representativos ou o modelo usado é muito simples e não captura os padrões existentes nos dados.\n",
    "\n",
    "![](./images/overfitting_underfitting.png)"
   ]
  },
  {
   "cell_type": "markdown",
   "metadata": {},
   "source": [
    "## Viés Indutivo\n",
    "\n",
    "Quando um algoritmo de AM está aprendendo a partir de um conjunto de dados de treinamento, ele está procurando uma hipótese, no espaço de possíveis hipóteses, capaz de descrever as relações entre os objetos e que melhor se ajuste aos dados de treinamento.\n",
    "\n",
    "Cada algoritmo ultiliza uma forma ou representação para descrever a hipótese induzida. Por exemplo, redes neurais artificiais representam uma hipótese por um conjunto de valores reais, associados aos pesos de suas conexões da rede. Árvores de decisão utilizam uma estrutura de árvore em que cada nó interno é representado por uma pergunta referente ao valor de um atributo e cada nó externo está associado a uma classe.\n",
    "\n",
    "A representação utilizada define a preferência ou viés (<i>bias</i>) de representação do algoritmo e pode restringir o conjunto de hipóteses que podem ser induzidas pelo algoritmo.\n",
    "\n",
    "![](./images/vies.png)\n",
    "\n",
    "Além do viés de representação, os algoritmos de AM possuem também um viés de busca. O viés de busca de um algoritmo é a forma como o algoritmo busca a hipótese que melhor se ajusta aos dados de treinamento. Ele define como as hipóteses são pesquisadas no espaço de hipóteses. Por exemplo, o algoritmo ID3, que é utilizado para indução de árvores de decisão, tem como viés de busca a preferência por árvores de decisão com poucos nós.\n",
    "\n",
    "Assim, cada algoritmo de AM possui dois vieses, um viés de representação e outro de busca. O viés é necessário para restringir as hipóteses a serem visitadas no espaço de busca. Sem viés não haveria aprendizado/generalização. Os modelos seriam especializados para exemplos individuais."
   ]
  },
  {
   "cell_type": "markdown",
   "metadata": {},
   "source": [
    "## Tarefas de Aprendizado\n",
    "\n",
    "Algoritmos de AM têm sido amplamente utilizados em diversas tarefas, que podem ser organizadas de acordo com diferentes critérios. Um deles diz respeito ao paradigma de aprendizado a ser adotado para lidar com a tarefa. De acordo com esses critérios, as tarefas de aprendizado podem ser divididas em:\n",
    "\n",
    "- Preditivas\n",
    "- Descritivas\n",
    "\n",
    "#### Aprendizado Supervisionado (classificação e regressão)\n",
    "\n",
    "Em tarefas de previsão, a meta é encontrar uma função a partir dos dados de treinamento que possa ser utilizada para prever um rótulo ou valor que caracterize um novo exemplo, com base nos valores de seus atributos de entrada. Para isso, cada objeto do conjunto de treinamento deve possuir atributos de entrada e saída.\n",
    "\n",
    "Os algoritmos ou método de AM utilizados nesse tarefa induzem modelos preditivos. Esses algoritmos seguem o paradigma de aprendizado supervisionado. O termo supervisionado vem da simulação da presença de um \"supervisor externo\", que conhece a saída (rótulo) desejada para cada exemplo. Com isso o supervisor externo pode avaliar a capacidade de hipótese induzida de predizer o valor de saída para novos exemplos.\n",
    "\n",
    "#### Aprendizado Não Supervisionado (agrupamento, associação, sumarização)\n",
    "\n",
    "Em tarefas de descrição, a meta é explorar ou descrever um conjunto de dados. Os algoritmos de AM utilizados nessas tarefas não fazem uso de atributos de saída. Por isso, seguem o paradigma de aprendizado não supervisionado. Uma tarefa descritiva de agrupamento de dados, por exemplo, tem por meta encontrar grupos de objetos semelhantes no conjunto de dados. Outra tarefa descritiva é encontrar regras de associação que relacionem um grupo de atributos a outro grupo de atributos.\n",
    "\n",
    "O objetivo do um modelo não supervisionado é oganizar os dados de alguma forma ou descrever sua estrutura.\n",
    "\n",
    "![](./images/clustering.png)\n",
    "\n",
    "#### Aprendizado Semi Supervisionado\n",
    "\n",
    "Uma tarefa de aprendizado semissupervisionado pode ser uma tarefa de agrupamento semissupervisionado ou de classificação/regressão semissupervisionada. \n",
    "\n",
    "Agrupamento semissupervisionado é utilizado quando os dados são não rotulados, mas são conhecidas algumas restrições sobre os dados, como que par de exemplos dever estar no mesmo grupo ou em grupos diferentes. \n",
    "\n",
    "A classificação semissupervisionada é utilizada em tarefas de classificação em que apenas parte dos exemplos de treinamento possui um rótulo de classe. \n",
    "\n",
    "Raciocínio semelhante é utilizado para a regressão semissupervisionada. Isso acontece porque rotular exemplos poder ter um custo delevado, poder ser uma tarefa dificíl ou pode necessitar de dispositivos especiais.\n",
    "\n",
    "O aprendizado semissupervisionado procura aumentar o número de exemplos rotulados utilizando como conjunto de treinamento os exemplos atualmente rotulados. O modelo induzido com esses dados é utilizado para rotular exemplos não rotulados. Para isso, o exemplo não rotulado deve ter sua classe predita com uma boa confiança. Esses exemplos são então adicionados ao conjunto de treinamento e o processo se repete até que os exemplos que satisfaçam uma dada condição sejam rotuladas. Assim, esse tipo  de aprendizado utiliza de forma passiva tanto os dados rotulados quando os não rotulados para induzir um modelo preditivo.\n",
    "\n",
    "#### Aprendizado por Reforço\n",
    "\n",
    "O aprendizado por reforço tem como meta reforçar ou recompensar uma ação considerada positiva e punir uma ação considerada negativa. Um exemplo de tarefa de reforço é a de ensinar um robô a encontrar a melhor trajetória entre dois pontos. Algoritmos de aprendizado utilizados nessa tarefa, em geral, punem a passagem por trechos pouco promissores e recompensam a passagem por trechos promissores.\n",
    "\n",
    "![](./images/reinforcement_learning.png)"
   ]
  },
  {
   "cell_type": "markdown",
   "metadata": {},
   "source": [
    "## Preparação de Dados\n",
    "\n",
    "### Análise de Dados\n",
    "\n",
    "A análise das características presentes em um conjunto de dados permite a descoberta de padrões e tendências que podem fornecer informações valiosas que ajudam a compreender o processo que gerou os dados. Muitas dessas características podem ser obtidas por meio da aplicação de fómulas estatísticas simples. Outras podem ser observadas por meio do uso de técnicas de visualização.\n",
    "\n",
    "###  Pré-processamento de Dados\n",
    "\n",
    "#### Redução de Dimencionalidade\n",
    "\n"
   ]
  },
  {
   "cell_type": "markdown",
   "metadata": {},
   "source": [
    "## Modelos Preditivos\n",
    "\n",
    "Modelo Preditivo é uma função matemática que, aplicada a uma massa de dados, consegue identificar padrões cultos e prever o que poderá ocorrer."
   ]
  },
  {
   "cell_type": "markdown",
   "metadata": {},
   "source": [
    "## Regressão\n",
    "\n",
    "### Regressão Linear Simples\n",
    "O objetivo da regressão linear é buscar a equação de uma linha de regressão que minimize a soma dos erros ao quadrado, da diferença entre o valor observado de Y e o valor previsto.\n",
    "\n",
    "<b>Fórmula da regressão</b>\n",
    "![](./images/formula_regressao.png)\n",
    "\n",
    "<b>Fórmula Cost Function</b>\n",
    "![](./images/formula_cost_function.png)\n",
    "\n",
    "#### Vídeos\n",
    "\n",
    "- [Construção de um diagrama de dispersão](https://www.youtube.com/watch?v=GjvmxmfRds8)\n",
    "- [Intuição sobre o coeficiente de correlação](https://www.youtube.com/watch?v=OYVmpo9gemw)\n",
    "- [Correlação e causalidade](https://www.youtube.com/watch?v=K4MXPV7jX8Q)\n",
    "- [Reta de regressão: tabagismo em 1945](https://www.youtube.com/watch?time_continue=26&v=PQce6JTg4SQ)\n",
    "- [Como criar um histograma](https://www.youtube.com/watch?v=Q1rbvzYmOmM)\n",
    "\n",
    "\n",
    "<b>Exercício:</b><br>\n",
    "Aubrey quer saber se tem conexão entre a hora em que uma determinada prova acontece e a média das notas da prova. Ele colheu informações sobre as provas do ano anterior e traçou os dados em um gráfico de disperção."
   ]
  },
  {
   "cell_type": "code",
   "execution_count": 63,
   "metadata": {},
   "outputs": [
    {
     "data": {
      "text/html": [
       "<div>\n",
       "<style>\n",
       "    .dataframe thead tr:only-child th {\n",
       "        text-align: right;\n",
       "    }\n",
       "\n",
       "    .dataframe thead th {\n",
       "        text-align: left;\n",
       "    }\n",
       "\n",
       "    .dataframe tbody tr th {\n",
       "        vertical-align: top;\n",
       "    }\n",
       "</style>\n",
       "<table border=\"1\" class=\"dataframe\">\n",
       "  <thead>\n",
       "    <tr style=\"text-align: right;\">\n",
       "      <th></th>\n",
       "      <th>Período</th>\n",
       "      <th>Média de notas</th>\n",
       "    </tr>\n",
       "  </thead>\n",
       "  <tbody>\n",
       "    <tr>\n",
       "      <th>0</th>\n",
       "      <td>1</td>\n",
       "      <td>93</td>\n",
       "    </tr>\n",
       "    <tr>\n",
       "      <th>1</th>\n",
       "      <td>6</td>\n",
       "      <td>87</td>\n",
       "    </tr>\n",
       "    <tr>\n",
       "      <th>2</th>\n",
       "      <td>2</td>\n",
       "      <td>70</td>\n",
       "    </tr>\n",
       "    <tr>\n",
       "      <th>3</th>\n",
       "      <td>4</td>\n",
       "      <td>62</td>\n",
       "    </tr>\n",
       "    <tr>\n",
       "      <th>4</th>\n",
       "      <td>4</td>\n",
       "      <td>86</td>\n",
       "    </tr>\n",
       "    <tr>\n",
       "      <th>5</th>\n",
       "      <td>1</td>\n",
       "      <td>73</td>\n",
       "    </tr>\n",
       "    <tr>\n",
       "      <th>6</th>\n",
       "      <td>3</td>\n",
       "      <td>73</td>\n",
       "    </tr>\n",
       "    <tr>\n",
       "      <th>7</th>\n",
       "      <td>1</td>\n",
       "      <td>80</td>\n",
       "    </tr>\n",
       "    <tr>\n",
       "      <th>8</th>\n",
       "      <td>3</td>\n",
       "      <td>96</td>\n",
       "    </tr>\n",
       "  </tbody>\n",
       "</table>\n",
       "</div>"
      ],
      "text/plain": [
       "   Período  Média de notas\n",
       "0        1              93\n",
       "1        6              87\n",
       "2        2              70\n",
       "3        4              62\n",
       "4        4              86\n",
       "5        1              73\n",
       "6        3              73\n",
       "7        1              80\n",
       "8        3              96"
      ]
     },
     "execution_count": 63,
     "metadata": {},
     "output_type": "execute_result"
    }
   ],
   "source": [
    "from sklearn import linear_model\n",
    "\n",
    "import numpy as np\n",
    "import pandas as pd\n",
    "import matplotlib.pyplot as plt\n",
    "import matplotlib as mpl\n",
    "%matplotlib inline\n",
    "\n",
    "dataset = pd.DataFrame(data=[1,6,2,4,4,1,3,1,3], columns= ['Período'])\n",
    "dataset['Média de notas'] = [93,87,70,62,86,73,73,80,96]\n",
    "\n",
    "dataset.head(20)"
   ]
  },
  {
   "cell_type": "code",
   "execution_count": 64,
   "metadata": {},
   "outputs": [
    {
     "name": "stdout",
     "output_type": "stream",
     "text": [
      "Média das saídas 80.0\n"
     ]
    }
   ],
   "source": [
    "mean = dataset['Média de notas'].mean()\n",
    "print('Média das saídas', mean)"
   ]
  },
  {
   "cell_type": "code",
   "execution_count": 65,
   "metadata": {},
   "outputs": [
    {
     "name": "stdout",
     "output_type": "stream",
     "text": [
      "Soma do quadrados dos erros (SSE): 1032\n"
     ]
    }
   ],
   "source": [
    "squared_errors = pd.Series(mean - dataset['Média de notas'])**2\n",
    "SSE = np.sum(squared_errors)\n",
    "print('Soma do quadrados dos erros (SSE): %01.f' % SSE)"
   ]
  },
  {
   "cell_type": "markdown",
   "metadata": {},
   "source": [
    "![](./images/SSE.png)"
   ]
  },
  {
   "cell_type": "code",
   "execution_count": 66,
   "metadata": {},
   "outputs": [
    {
     "data": {
      "image/png": "[encoded data removed]",
      "text/plain": [
       "<matplotlib.figure.Figure at 0x7f7b47ccabe0>"
      ]
     },
     "metadata": {},
     "output_type": "display_data"
    }
   ],
   "source": [
    "hist_plot = squared_errors.plot('hist')"
   ]
  },
  {
   "cell_type": "markdown",
   "metadata": {},
   "source": [
    "#### Calculando o desvio padrão do campo que possui a média do número de quartos"
   ]
  },
  {
   "cell_type": "code",
   "execution_count": 67,
   "metadata": {},
   "outputs": [
    {
     "data": {
      "text/plain": [
       "1.617802197617893"
      ]
     },
     "execution_count": 67,
     "metadata": {},
     "output_type": "execute_result"
    }
   ],
   "source": [
    "np.std(dataset['Período'])"
   ]
  },
  {
   "cell_type": "code",
   "execution_count": 68,
   "metadata": {},
   "outputs": [
    {
     "name": "stdout",
     "output_type": "stream",
     "text": [
      "Correlação: 0.04490\n"
     ]
    }
   ],
   "source": [
    "from scipy.stats.stats import pearsonr\n",
    "print('Correlação: %0.5f' % pearsonr(dataset['Período'], dataset['Média de notas'])[0])"
   ]
  },
  {
   "cell_type": "code",
   "execution_count": 69,
   "metadata": {},
   "outputs": [
    {
     "name": "stdout",
     "output_type": "stream",
     "text": [
      "[1, 6]\n",
      "[62, 96]\n"
     ]
    }
   ],
   "source": [
    "x_range = [dataset['Período'].min(),dataset['Período'].max()]\n",
    "print(x_range)\n",
    "y_range = [dataset['Média de notas'].min(),dataset['Média de notas'].max()]\n",
    "print(y_range)"
   ]
  },
  {
   "cell_type": "code",
   "execution_count": 70,
   "metadata": {},
   "outputs": [
    {
     "data": {
      "image/png": "[encoded data removed]",
      "text/plain": [
       "<matplotlib.figure.Figure at 0x7f7b47c5b710>"
      ]
     },
     "metadata": {},
     "output_type": "display_data"
    }
   ],
   "source": [
    "scatter_plot = dataset.plot(kind='scatter', x='Período', y='Média de notas', xlim=x_range, ylim=y_range)"
   ]
  },
  {
   "cell_type": "code",
   "execution_count": 72,
   "metadata": {},
   "outputs": [
    {
     "name": "stdout",
     "output_type": "stream",
     "text": [
      "[ 0.29716981]\n",
      "79.1745283019\n",
      "[ 79.47169811  80.95754717  79.76886792  80.36320755  80.36320755\n",
      "  79.47169811  80.06603774  79.47169811  80.06603774]\n"
     ]
    }
   ],
   "source": [
    "model = linear_model.LinearRegression(normalize=False, fit_intercept=True)\n",
    "\n",
    "num_observ = len(dataset)\n",
    "x = dataset['Período'].values.reshape((num_observ, 1)) # X deve ser uma matriz\n",
    "y = dataset['Média de notas'].values # Y pode ser um vetor\n",
    "\n",
    "model.fit(x, y)\n",
    "\n",
    "print(model.coef_)\n",
    "print(model.intercept_)\n",
    "\n",
    "print(model.predict(x)[:9])"
   ]
  },
  {
   "cell_type": "markdown",
   "metadata": {
    "collapsed": true
   },
   "source": [
    "### Métodos baseados em distâncias\n",
    "\n",
    "#### KNN"
   ]
  },
  {
   "cell_type": "code",
   "execution_count": null,
   "metadata": {
    "collapsed": true
   },
   "outputs": [],
   "source": []
  },
  {
   "cell_type": "code",
   "execution_count": 15,
   "metadata": {
    "collapsed": true
   },
   "outputs": [],
   "source": [
    "import sklearn"
   ]
  },
  {
   "cell_type": "markdown",
   "metadata": {},
   "source": [
    "### Métodos probabilísticos"
   ]
  },
  {
   "cell_type": "code",
   "execution_count": 16,
   "metadata": {
    "collapsed": true
   },
   "outputs": [],
   "source": [
    "import sklearn"
   ]
  },
  {
   "cell_type": "markdown",
   "metadata": {},
   "source": [
    "### Métodos Baseados em Procura"
   ]
  },
  {
   "cell_type": "code",
   "execution_count": 17,
   "metadata": {
    "collapsed": true
   },
   "outputs": [],
   "source": [
    "import sklearn"
   ]
  },
  {
   "cell_type": "markdown",
   "metadata": {},
   "source": [
    "### Métodos Baseados em Otimização\n",
    "\n",
    "#### RNN"
   ]
  },
  {
   "cell_type": "code",
   "execution_count": 18,
   "metadata": {
    "collapsed": true
   },
   "outputs": [],
   "source": [
    "import sklearn"
   ]
  },
  {
   "cell_type": "markdown",
   "metadata": {},
   "source": [
    "#### SVM"
   ]
  },
  {
   "cell_type": "code",
   "execution_count": 19,
   "metadata": {
    "collapsed": true
   },
   "outputs": [],
   "source": [
    "import sklearn"
   ]
  },
  {
   "cell_type": "markdown",
   "metadata": {},
   "source": [
    "## Modelos Descritivos\n",
    "\n",
    "### Análise de Agrupamento\n",
    "\n",
    "- Hard Clustering (agrupamento rígido)\n",
    "- Soft Clustering (probabilidade de estar em qualquer cluster)\n",
    "\n",
    "#### K-means"
   ]
  },
  {
   "cell_type": "code",
   "execution_count": 20,
   "metadata": {
    "collapsed": true
   },
   "outputs": [],
   "source": [
    "import sklearn"
   ]
  },
  {
   "cell_type": "markdown",
   "metadata": {},
   "source": [
    "### Modelos Mútiplos Descritivos\n",
    "\n",
    "#### <i>Ensembles</i> de Agrupamentos"
   ]
  },
  {
   "cell_type": "code",
   "execution_count": null,
   "metadata": {
    "collapsed": true
   },
   "outputs": [],
   "source": []
  }
 ],
 "metadata": {
  "kernelspec": {
   "display_name": "Python 3",
   "language": "python",
   "name": "python3"
  },
  "language_info": {
   "codemirror_mode": {
    "name": "ipython",
    "version": 3
   },
   "file_extension": ".py",
   "mimetype": "text/x-python",
   "name": "python",
   "nbconvert_exporter": "python",
   "pygments_lexer": "ipython3",
   "version": "3.6.1"
  }
 },
 "nbformat": 4,
 "nbformat_minor": 2
}
