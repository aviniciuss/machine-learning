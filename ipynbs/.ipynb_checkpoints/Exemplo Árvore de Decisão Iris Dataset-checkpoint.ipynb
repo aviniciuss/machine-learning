{
 "cells": [
  {
   "cell_type": "code",
   "execution_count": 1,
   "metadata": {
    "collapsed": true
   },
   "outputs": [],
   "source": [
    "import numpy as np\n",
    "import pandas as pd\n",
    "from matplotlib import pyplot as plt\n",
    "from sklearn.tree import DecisionTreeClassifier\n",
    "from sklearn.model_selection import train_test_split\n",
    "from sklearn.metrics import confusion_matrix\n",
    "from sklearn.metrics import accuracy_score\n",
    "from sklearn.datasets import load_iris\n",
    "from sklearn.tree import export_graphviz\n",
    "\n",
    "import pydot\n",
    "import graphviz"
   ]
  },
  {
   "cell_type": "code",
   "execution_count": 2,
   "metadata": {
    "collapsed": true
   },
   "outputs": [],
   "source": [
    "dataset_iris = load_iris()\n",
    "\n",
    "df = pd.DataFrame(data=dataset_iris.data, columns=dataset_iris.feature_names)"
   ]
  },
  {
   "cell_type": "code",
   "execution_count": 3,
   "metadata": {},
   "outputs": [
    {
     "data": {
      "text/html": [
       "<div>\n",
       "<style>\n",
       "    .dataframe thead tr:only-child th {\n",
       "        text-align: right;\n",
       "    }\n",
       "\n",
       "    .dataframe thead th {\n",
       "        text-align: left;\n",
       "    }\n",
       "\n",
       "    .dataframe tbody tr th {\n",
       "        vertical-align: top;\n",
       "    }\n",
       "</style>\n",
       "<table border=\"1\" class=\"dataframe\">\n",
       "  <thead>\n",
       "    <tr style=\"text-align: right;\">\n",
       "      <th></th>\n",
       "      <th>sepal length (cm)</th>\n",
       "      <th>sepal width (cm)</th>\n",
       "      <th>petal length (cm)</th>\n",
       "      <th>petal width (cm)</th>\n",
       "    </tr>\n",
       "  </thead>\n",
       "  <tbody>\n",
       "    <tr>\n",
       "      <th>0</th>\n",
       "      <td>5.1</td>\n",
       "      <td>3.5</td>\n",
       "      <td>1.4</td>\n",
       "      <td>0.2</td>\n",
       "    </tr>\n",
       "    <tr>\n",
       "      <th>1</th>\n",
       "      <td>4.9</td>\n",
       "      <td>3.0</td>\n",
       "      <td>1.4</td>\n",
       "      <td>0.2</td>\n",
       "    </tr>\n",
       "    <tr>\n",
       "      <th>2</th>\n",
       "      <td>4.7</td>\n",
       "      <td>3.2</td>\n",
       "      <td>1.3</td>\n",
       "      <td>0.2</td>\n",
       "    </tr>\n",
       "    <tr>\n",
       "      <th>3</th>\n",
       "      <td>4.6</td>\n",
       "      <td>3.1</td>\n",
       "      <td>1.5</td>\n",
       "      <td>0.2</td>\n",
       "    </tr>\n",
       "    <tr>\n",
       "      <th>4</th>\n",
       "      <td>5.0</td>\n",
       "      <td>3.6</td>\n",
       "      <td>1.4</td>\n",
       "      <td>0.2</td>\n",
       "    </tr>\n",
       "  </tbody>\n",
       "</table>\n",
       "</div>"
      ],
      "text/plain": [
       "   sepal length (cm)  sepal width (cm)  petal length (cm)  petal width (cm)\n",
       "0                5.1               3.5                1.4               0.2\n",
       "1                4.9               3.0                1.4               0.2\n",
       "2                4.7               3.2                1.3               0.2\n",
       "3                4.6               3.1                1.5               0.2\n",
       "4                5.0               3.6                1.4               0.2"
      ]
     },
     "execution_count": 3,
     "metadata": {},
     "output_type": "execute_result"
    }
   ],
   "source": [
    "df.head(5)"
   ]
  },
  {
   "cell_type": "code",
   "execution_count": 4,
   "metadata": {
    "collapsed": true
   },
   "outputs": [],
   "source": [
    "X_train, X_test, Y_train, Y_test = train_test_split(dataset_iris.data, \n",
    "                                                    dataset_iris.target, \n",
    "                                                    test_size = 0.33)"
   ]
  },
  {
   "cell_type": "code",
   "execution_count": 5,
   "metadata": {
    "collapsed": true
   },
   "outputs": [],
   "source": [
    "clf = DecisionTreeClassifier(max_depth= None,\n",
    "                             max_features = None,\n",
    "                             criterion = 'entropy',\n",
    "                             min_samples_leaf = 1,\n",
    "                             min_samples_split = 2)\n",
    "\n",
    "model = clf.fit(X_train, Y_train)\n",
    "predicts = model.predict(X_test)"
   ]
  },
  {
   "cell_type": "code",
   "execution_count": 6,
   "metadata": {},
   "outputs": [
    {
     "name": "stdout",
     "output_type": "stream",
     "text": [
      "[[15  0  0]\n",
      " [ 0 14  2]\n",
      " [ 0  1 18]]\n"
     ]
    }
   ],
   "source": [
    "print(confusion_matrix(Y_test, predicts))"
   ]
  },
  {
   "cell_type": "code",
   "execution_count": 7,
   "metadata": {},
   "outputs": [
    {
     "name": "stdout",
     "output_type": "stream",
     "text": [
      "Acuracia com dados de teste:  0.94\n"
     ]
    }
   ],
   "source": [
    "print('Acuracia com dados de teste: ', accuracy_score(Y_test, predicts))"
   ]
  },
  {
   "cell_type": "code",
   "execution_count": 8,
   "metadata": {
    "collapsed": true
   },
   "outputs": [],
   "source": [
    "output = '/home/avinicius/workspace/machine-learning/tree.dot'"
   ]
  },
  {
   "cell_type": "code",
   "execution_count": 9,
   "metadata": {},
   "outputs": [
    {
     "data": {
      "image/svg+xml": [
       "<?xml version=\"1.0\" encoding=\"UTF-8\" standalone=\"no\"?>\n",
       "<!DOCTYPE svg PUBLIC \"-//W3C//DTD SVG 1.1//EN\"\n",
       " \"http://www.w3.org/Graphics/SVG/1.1/DTD/svg11.dtd\">\n",
       "<!-- Generated by graphviz version 2.38.0 (20140413.2041)\n",
       " -->\n",
       "<!-- Title: Tree Pages: 1 -->\n",
       "<svg width=\"519pt\" height=\"477pt\"\n",
       " viewBox=\"0.00 0.00 519.00 477.00\" xmlns=\"http://www.w3.org/2000/svg\" xmlns:xlink=\"http://www.w3.org/1999/xlink\">\n",
       "<g id=\"graph0\" class=\"graph\" transform=\"scale(1 1) rotate(0) translate(4 473)\">\n",
       "<title>Tree</title>\n",
       "<polygon fill=\"white\" stroke=\"none\" points=\"-4,4 -4,-473 515,-473 515,4 -4,4\"/>\n",
       "<!-- 0 -->\n",
       "<g id=\"node1\" class=\"node\"><title>0</title>\n",
       "<polygon fill=\"none\" stroke=\"black\" points=\"335.5,-469 180.5,-469 180.5,-401 335.5,-401 335.5,-469\"/>\n",
       "<text text-anchor=\"middle\" x=\"258\" y=\"-453.8\" font-family=\"Times,serif\" font-size=\"14.00\">petal width (cm) &lt;= 0.75</text>\n",
       "<text text-anchor=\"middle\" x=\"258\" y=\"-438.8\" font-family=\"Times,serif\" font-size=\"14.00\">entropy = 1.583</text>\n",
       "<text text-anchor=\"middle\" x=\"258\" y=\"-423.8\" font-family=\"Times,serif\" font-size=\"14.00\">samples = 100</text>\n",
       "<text text-anchor=\"middle\" x=\"258\" y=\"-408.8\" font-family=\"Times,serif\" font-size=\"14.00\">value = [35, 34, 31]</text>\n",
       "</g>\n",
       "<!-- 1 -->\n",
       "<g id=\"node2\" class=\"node\"><title>1</title>\n",
       "<polygon fill=\"none\" stroke=\"black\" points=\"238.5,-357.5 125.5,-357.5 125.5,-304.5 238.5,-304.5 238.5,-357.5\"/>\n",
       "<text text-anchor=\"middle\" x=\"182\" y=\"-342.3\" font-family=\"Times,serif\" font-size=\"14.00\">entropy = 0.0</text>\n",
       "<text text-anchor=\"middle\" x=\"182\" y=\"-327.3\" font-family=\"Times,serif\" font-size=\"14.00\">samples = 35</text>\n",
       "<text text-anchor=\"middle\" x=\"182\" y=\"-312.3\" font-family=\"Times,serif\" font-size=\"14.00\">value = [35, 0, 0]</text>\n",
       "</g>\n",
       "<!-- 0&#45;&gt;1 -->\n",
       "<g id=\"edge1\" class=\"edge\"><title>0&#45;&gt;1</title>\n",
       "<path fill=\"none\" stroke=\"black\" d=\"M233.325,-400.884C224.967,-389.666 215.623,-377.126 207.223,-365.852\"/>\n",
       "<polygon fill=\"black\" stroke=\"black\" points=\"209.796,-363.448 201.015,-357.52 204.183,-367.63 209.796,-363.448\"/>\n",
       "<text text-anchor=\"middle\" x=\"197.402\" y=\"-378.557\" font-family=\"Times,serif\" font-size=\"14.00\">True</text>\n",
       "</g>\n",
       "<!-- 2 -->\n",
       "<g id=\"node3\" class=\"node\"><title>2</title>\n",
       "<polygon fill=\"none\" stroke=\"black\" points=\"411.5,-365 256.5,-365 256.5,-297 411.5,-297 411.5,-365\"/>\n",
       "<text text-anchor=\"middle\" x=\"334\" y=\"-349.8\" font-family=\"Times,serif\" font-size=\"14.00\">petal width (cm) &lt;= 1.75</text>\n",
       "<text text-anchor=\"middle\" x=\"334\" y=\"-334.8\" font-family=\"Times,serif\" font-size=\"14.00\">entropy = 0.998</text>\n",
       "<text text-anchor=\"middle\" x=\"334\" y=\"-319.8\" font-family=\"Times,serif\" font-size=\"14.00\">samples = 65</text>\n",
       "<text text-anchor=\"middle\" x=\"334\" y=\"-304.8\" font-family=\"Times,serif\" font-size=\"14.00\">value = [0, 34, 31]</text>\n",
       "</g>\n",
       "<!-- 0&#45;&gt;2 -->\n",
       "<g id=\"edge2\" class=\"edge\"><title>0&#45;&gt;2</title>\n",
       "<path fill=\"none\" stroke=\"black\" d=\"M282.675,-400.884C289.179,-392.154 296.28,-382.625 303.068,-373.514\"/>\n",
       "<polygon fill=\"black\" stroke=\"black\" points=\"306.02,-375.409 309.189,-365.299 300.407,-371.227 306.02,-375.409\"/>\n",
       "<text text-anchor=\"middle\" x=\"312.802\" y=\"-386.337\" font-family=\"Times,serif\" font-size=\"14.00\">False</text>\n",
       "</g>\n",
       "<!-- 3 -->\n",
       "<g id=\"node4\" class=\"node\"><title>3</title>\n",
       "<polygon fill=\"none\" stroke=\"black\" points=\"336,-261 178,-261 178,-193 336,-193 336,-261\"/>\n",
       "<text text-anchor=\"middle\" x=\"257\" y=\"-245.8\" font-family=\"Times,serif\" font-size=\"14.00\">petal length (cm) &lt;= 5.05</text>\n",
       "<text text-anchor=\"middle\" x=\"257\" y=\"-230.8\" font-family=\"Times,serif\" font-size=\"14.00\">entropy = 0.485</text>\n",
       "<text text-anchor=\"middle\" x=\"257\" y=\"-215.8\" font-family=\"Times,serif\" font-size=\"14.00\">samples = 38</text>\n",
       "<text text-anchor=\"middle\" x=\"257\" y=\"-200.8\" font-family=\"Times,serif\" font-size=\"14.00\">value = [0, 34, 4]</text>\n",
       "</g>\n",
       "<!-- 2&#45;&gt;3 -->\n",
       "<g id=\"edge3\" class=\"edge\"><title>2&#45;&gt;3</title>\n",
       "<path fill=\"none\" stroke=\"black\" d=\"M309,-296.884C302.411,-288.154 295.217,-278.625 288.339,-269.514\"/>\n",
       "<polygon fill=\"black\" stroke=\"black\" points=\"290.956,-267.172 282.138,-261.299 285.369,-271.389 290.956,-267.172\"/>\n",
       "</g>\n",
       "<!-- 10 -->\n",
       "<g id=\"node11\" class=\"node\"><title>10</title>\n",
       "<polygon fill=\"none\" stroke=\"black\" points=\"467.5,-253.5 354.5,-253.5 354.5,-200.5 467.5,-200.5 467.5,-253.5\"/>\n",
       "<text text-anchor=\"middle\" x=\"411\" y=\"-238.3\" font-family=\"Times,serif\" font-size=\"14.00\">entropy = 0.0</text>\n",
       "<text text-anchor=\"middle\" x=\"411\" y=\"-223.3\" font-family=\"Times,serif\" font-size=\"14.00\">samples = 27</text>\n",
       "<text text-anchor=\"middle\" x=\"411\" y=\"-208.3\" font-family=\"Times,serif\" font-size=\"14.00\">value = [0, 0, 27]</text>\n",
       "</g>\n",
       "<!-- 2&#45;&gt;10 -->\n",
       "<g id=\"edge10\" class=\"edge\"><title>2&#45;&gt;10</title>\n",
       "<path fill=\"none\" stroke=\"black\" d=\"M359,-296.884C367.551,-285.556 377.12,-272.88 385.695,-261.521\"/>\n",
       "<polygon fill=\"black\" stroke=\"black\" points=\"388.503,-263.61 391.735,-253.52 382.916,-259.392 388.503,-263.61\"/>\n",
       "</g>\n",
       "<!-- 4 -->\n",
       "<g id=\"node5\" class=\"node\"><title>4</title>\n",
       "<polygon fill=\"none\" stroke=\"black\" points=\"248,-157 88,-157 88,-89 248,-89 248,-157\"/>\n",
       "<text text-anchor=\"middle\" x=\"168\" y=\"-141.8\" font-family=\"Times,serif\" font-size=\"14.00\">sepal length (cm) &lt;= 4.95</text>\n",
       "<text text-anchor=\"middle\" x=\"168\" y=\"-126.8\" font-family=\"Times,serif\" font-size=\"14.00\">entropy = 0.191</text>\n",
       "<text text-anchor=\"middle\" x=\"168\" y=\"-111.8\" font-family=\"Times,serif\" font-size=\"14.00\">samples = 34</text>\n",
       "<text text-anchor=\"middle\" x=\"168\" y=\"-96.8\" font-family=\"Times,serif\" font-size=\"14.00\">value = [0, 33, 1]</text>\n",
       "</g>\n",
       "<!-- 3&#45;&gt;4 -->\n",
       "<g id=\"edge4\" class=\"edge\"><title>3&#45;&gt;4</title>\n",
       "<path fill=\"none\" stroke=\"black\" d=\"M228.104,-192.884C220.332,-183.976 211.833,-174.235 203.737,-164.957\"/>\n",
       "<polygon fill=\"black\" stroke=\"black\" points=\"206.267,-162.533 197.055,-157.299 200.993,-167.135 206.267,-162.533\"/>\n",
       "</g>\n",
       "<!-- 7 -->\n",
       "<g id=\"node8\" class=\"node\"><title>7</title>\n",
       "<polygon fill=\"none\" stroke=\"black\" points=\"426,-157 266,-157 266,-89 426,-89 426,-157\"/>\n",
       "<text text-anchor=\"middle\" x=\"346\" y=\"-141.8\" font-family=\"Times,serif\" font-size=\"14.00\">sepal length (cm) &lt;= 6.05</text>\n",
       "<text text-anchor=\"middle\" x=\"346\" y=\"-126.8\" font-family=\"Times,serif\" font-size=\"14.00\">entropy = 0.811</text>\n",
       "<text text-anchor=\"middle\" x=\"346\" y=\"-111.8\" font-family=\"Times,serif\" font-size=\"14.00\">samples = 4</text>\n",
       "<text text-anchor=\"middle\" x=\"346\" y=\"-96.8\" font-family=\"Times,serif\" font-size=\"14.00\">value = [0, 1, 3]</text>\n",
       "</g>\n",
       "<!-- 3&#45;&gt;7 -->\n",
       "<g id=\"edge7\" class=\"edge\"><title>3&#45;&gt;7</title>\n",
       "<path fill=\"none\" stroke=\"black\" d=\"M285.896,-192.884C293.668,-183.976 302.167,-174.235 310.263,-164.957\"/>\n",
       "<polygon fill=\"black\" stroke=\"black\" points=\"313.007,-167.135 316.945,-157.299 307.733,-162.533 313.007,-167.135\"/>\n",
       "</g>\n",
       "<!-- 5 -->\n",
       "<g id=\"node6\" class=\"node\"><title>5</title>\n",
       "<polygon fill=\"none\" stroke=\"black\" points=\"106,-53 7.10543e-15,-53 7.10543e-15,-0 106,-0 106,-53\"/>\n",
       "<text text-anchor=\"middle\" x=\"53\" y=\"-37.8\" font-family=\"Times,serif\" font-size=\"14.00\">entropy = 0.0</text>\n",
       "<text text-anchor=\"middle\" x=\"53\" y=\"-22.8\" font-family=\"Times,serif\" font-size=\"14.00\">samples = 1</text>\n",
       "<text text-anchor=\"middle\" x=\"53\" y=\"-7.8\" font-family=\"Times,serif\" font-size=\"14.00\">value = [0, 0, 1]</text>\n",
       "</g>\n",
       "<!-- 4&#45;&gt;5 -->\n",
       "<g id=\"edge5\" class=\"edge\"><title>4&#45;&gt;5</title>\n",
       "<path fill=\"none\" stroke=\"black\" d=\"M127.779,-88.9485C116.201,-79.4346 103.593,-69.074 92.0848,-59.6175\"/>\n",
       "<polygon fill=\"black\" stroke=\"black\" points=\"94.268,-56.8814 84.3198,-53.2367 89.8238,-62.2897 94.268,-56.8814\"/>\n",
       "</g>\n",
       "<!-- 6 -->\n",
       "<g id=\"node7\" class=\"node\"><title>6</title>\n",
       "<polygon fill=\"none\" stroke=\"black\" points=\"237.5,-53 124.5,-53 124.5,-0 237.5,-0 237.5,-53\"/>\n",
       "<text text-anchor=\"middle\" x=\"181\" y=\"-37.8\" font-family=\"Times,serif\" font-size=\"14.00\">entropy = 0.0</text>\n",
       "<text text-anchor=\"middle\" x=\"181\" y=\"-22.8\" font-family=\"Times,serif\" font-size=\"14.00\">samples = 33</text>\n",
       "<text text-anchor=\"middle\" x=\"181\" y=\"-7.8\" font-family=\"Times,serif\" font-size=\"14.00\">value = [0, 33, 0]</text>\n",
       "</g>\n",
       "<!-- 4&#45;&gt;6 -->\n",
       "<g id=\"edge6\" class=\"edge\"><title>4&#45;&gt;6</title>\n",
       "<path fill=\"none\" stroke=\"black\" d=\"M172.547,-88.9485C173.692,-80.6238 174.926,-71.6509 176.089,-63.2027\"/>\n",
       "<polygon fill=\"black\" stroke=\"black\" points=\"179.564,-63.6204 177.46,-53.2367 172.629,-62.6664 179.564,-63.6204\"/>\n",
       "</g>\n",
       "<!-- 8 -->\n",
       "<g id=\"node9\" class=\"node\"><title>8</title>\n",
       "<polygon fill=\"none\" stroke=\"black\" points=\"387,-53 281,-53 281,-0 387,-0 387,-53\"/>\n",
       "<text text-anchor=\"middle\" x=\"334\" y=\"-37.8\" font-family=\"Times,serif\" font-size=\"14.00\">entropy = 0.0</text>\n",
       "<text text-anchor=\"middle\" x=\"334\" y=\"-22.8\" font-family=\"Times,serif\" font-size=\"14.00\">samples = 1</text>\n",
       "<text text-anchor=\"middle\" x=\"334\" y=\"-7.8\" font-family=\"Times,serif\" font-size=\"14.00\">value = [0, 1, 0]</text>\n",
       "</g>\n",
       "<!-- 7&#45;&gt;8 -->\n",
       "<g id=\"edge8\" class=\"edge\"><title>7&#45;&gt;8</title>\n",
       "<path fill=\"none\" stroke=\"black\" d=\"M341.803,-88.9485C340.746,-80.6238 339.606,-71.6509 338.534,-63.2027\"/>\n",
       "<polygon fill=\"black\" stroke=\"black\" points=\"342,-62.7161 337.268,-53.2367 335.056,-63.598 342,-62.7161\"/>\n",
       "</g>\n",
       "<!-- 9 -->\n",
       "<g id=\"node10\" class=\"node\"><title>9</title>\n",
       "<polygon fill=\"none\" stroke=\"black\" points=\"511,-53 405,-53 405,-0 511,-0 511,-53\"/>\n",
       "<text text-anchor=\"middle\" x=\"458\" y=\"-37.8\" font-family=\"Times,serif\" font-size=\"14.00\">entropy = 0.0</text>\n",
       "<text text-anchor=\"middle\" x=\"458\" y=\"-22.8\" font-family=\"Times,serif\" font-size=\"14.00\">samples = 3</text>\n",
       "<text text-anchor=\"middle\" x=\"458\" y=\"-7.8\" font-family=\"Times,serif\" font-size=\"14.00\">value = [0, 0, 3]</text>\n",
       "</g>\n",
       "<!-- 7&#45;&gt;9 -->\n",
       "<g id=\"edge9\" class=\"edge\"><title>7&#45;&gt;9</title>\n",
       "<path fill=\"none\" stroke=\"black\" d=\"M385.172,-88.9485C396.34,-79.526 408.491,-69.2731 419.611,-59.8906\"/>\n",
       "<polygon fill=\"black\" stroke=\"black\" points=\"422.111,-62.3605 427.497,-53.2367 417.597,-57.0104 422.111,-62.3605\"/>\n",
       "</g>\n",
       "</g>\n",
       "</svg>\n"
      ],
      "text/plain": [
       "<graphviz.files.Source at 0x7f80cf9b0eb8>"
      ]
     },
     "execution_count": 9,
     "metadata": {},
     "output_type": "execute_result"
    }
   ],
   "source": [
    "export_graphviz(clf, out_file=output, feature_names=dataset_iris.feature_names)\n",
    "\n",
    "with open(output) as file:\n",
    "    dot_graph = file.read()\n",
    "    \n",
    "graphviz.Source(dot_graph)"
   ]
  },
  {
   "cell_type": "code",
   "execution_count": null,
   "metadata": {
    "collapsed": true
   },
   "outputs": [],
   "source": []
  }
 ],
 "metadata": {
  "kernelspec": {
   "display_name": "Python 3",
   "language": "python",
   "name": "python3"
  },
  "language_info": {
   "codemirror_mode": {
    "name": "ipython",
    "version": 3
   },
   "file_extension": ".py",
   "mimetype": "text/x-python",
   "name": "python",
   "nbconvert_exporter": "python",
   "pygments_lexer": "ipython3",
   "version": "3.6.1"
  }
 },
 "nbformat": 4,
 "nbformat_minor": 2
}
