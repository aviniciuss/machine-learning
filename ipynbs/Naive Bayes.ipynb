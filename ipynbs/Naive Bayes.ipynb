{
 "cells": [
  {
   "cell_type": "markdown",
   "metadata": {
    "collapsed": true
   },
   "source": [
    "### Naive Bayes\n",
    "\n",
    "- [Teorema de Bayes - Aula 1: Características (Probabilidade a Priori, Condicional e Conjunta)](https://www.youtube.com/watch?v=78R1yNVGnSk&t=6s)\n",
    "\n",
    "- [Teorema de Bayes - Aula 2: a Posteriori](https://www.youtube.com/watch?v=mTfI6ggVNyQ)"
   ]
  },
  {
   "cell_type": "code",
   "execution_count": null,
   "metadata": {
    "collapsed": true
   },
   "outputs": [],
   "source": []
  }
 ],
 "metadata": {
  "kernelspec": {
   "display_name": "Python 3",
   "language": "python",
   "name": "python3"
  },
  "language_info": {
   "codemirror_mode": {
    "name": "ipython",
    "version": 3
   },
   "file_extension": ".py",
   "mimetype": "text/x-python",
   "name": "python",
   "nbconvert_exporter": "python",
   "pygments_lexer": "ipython3",
   "version": "3.6.1"
  }
 },
 "nbformat": 4,
 "nbformat_minor": 2
}
