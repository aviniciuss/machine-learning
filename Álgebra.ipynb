{
 "cells": [
  {
   "cell_type": "markdown",
   "metadata": {},
   "source": [
    "## Origens da Álgebra\n",
    "\n",
    "#### O livro resumo de cálculo de realização e balanceamento\n",
    "\n",
    "![](./images/origem_algebra.jpg)\n",
    "\n",
    "- Livro escrito por um matemático persa [al-Kwarizmi](https://pt.wikipedia.org/wiki/Al-Khw%C4%81rizm%C4%AB) que viveu em bagda por volta de 820 DC considerado pai da álgebra.\n",
    "\n",
    "- Álgebra significa Restabelecimento ou Realização\n",
    "\n",
    "- Outro matemático que contribuiu com a álgebra [Diophantus](https://en.wikipedia.org/wiki/Diophantus) "
   ]
  },
  {
   "cell_type": "markdown",
   "metadata": {},
   "source": [
    "### As maravilhas da álgebra\n",
    "\n",
    "![](./images/galileu.jpg)\n",
    "\n",
    "> A filosofia está escrita em um grande livro que está diante dos nosso olhos - e este é o universo - mas não poderemos entender este livro sem antes aprendermos a linguagem e compreendermos os símbolos no qual está escrito. Este livro está escrito em linguagem matemática... Sem a qual nos porderemos em vão por um labirinto escuro. Galileo Galilei"
   ]
  },
  {
   "cell_type": "code",
   "execution_count": 3,
   "metadata": {},
   "outputs": [
    {
     "name": "stdout",
     "output_type": "stream",
     "text": [
      "45.0\n"
     ]
    }
   ],
   "source": [
    "X = 150\n",
    "P = 0.30\n",
    "Y = P * X \n",
    "print(Y)"
   ]
  },
  {
   "cell_type": "markdown",
   "metadata": {},
   "source": [
    "X pode ser o valor de um produto e P valor de desconto assim descobrindo o desconto em Y, ou P pode ser a massa e X aceleração, isso é a abstração da álgebra temos um nível infinito de aplicações."
   ]
  },
  {
   "cell_type": "markdown",
   "metadata": {},
   "source": [
    "### Introdução ao plano cartesiano\n",
    "\n",
    "#### Reńe Descartes\n",
    "![](./images/rene_descartes.jpg)\n",
    "\n",
    "#### Fundiu a álgebra com Geometria.\n",
    "\n",
    "![](./images/geometria_algebra.png)\n"
   ]
  },
  {
   "cell_type": "markdown",
   "metadata": {},
   "source": [
    "### Por que letras em álgebra?"
   ]
  },
  {
   "cell_type": "markdown",
   "metadata": {},
   "source": [
    "Y + 3 = 10<br>\n",
    "Y = X + 1<br>\n",
    "\n",
    "1. Por que temos algo desconhecido\n",
    "2. Relação entre números"
   ]
  },
  {
   "cell_type": "markdown",
   "metadata": {},
   "source": [
    "### O que é uma variavél\n",
    "\n",
    "Um símbolo que representa valores variáveis, geralmente uma letra."
   ]
  },
  {
   "cell_type": "code",
   "execution_count": 14,
   "metadata": {},
   "outputs": [
    {
     "name": "stdout",
     "output_type": "stream",
     "text": [
      "40\n",
      "35\n"
     ]
    }
   ],
   "source": [
    "X = 30\n",
    "Y = 10 + X\n",
    "print(Y)\n",
    "\n",
    "X = 25\n",
    "Y = 10 + X\n",
    "print(Y)"
   ]
  },
  {
   "cell_type": "markdown",
   "metadata": {},
   "source": [
    "\n"
   ]
  },
  {
   "cell_type": "code",
   "execution_count": null,
   "metadata": {
    "collapsed": true
   },
   "outputs": [],
   "source": []
  }
 ],
 "metadata": {
  "kernelspec": {
   "display_name": "Python 3",
   "language": "python",
   "name": "python3"
  },
  "language_info": {
   "codemirror_mode": {
    "name": "ipython",
    "version": 3
   },
   "file_extension": ".py",
   "mimetype": "text/x-python",
   "name": "python",
   "nbconvert_exporter": "python",
   "pygments_lexer": "ipython3",
   "version": "3.6.1"
  }
 },
 "nbformat": 4,
 "nbformat_minor": 2
}
